{
 "cells": [
  {
   "cell_type": "code",
   "execution_count": 4,
   "metadata": {},
   "outputs": [],
   "source": [
    "suppressMessages(library(miRNAselector)\n",)
    "suppressWarnings(suppressMessages(library(data.table))\n",)
    "suppressWarnings(suppressMessages(library(knitr))\n",)
    "input_csv = fread(\"demo/tissue_miRNA_counts.csv.gz\") # change to your file!"
   ]
  },
  {
   "cell_type": "markdown",
   "metadata": {},
   "source": [
    "# Welcome\n",
    "\n",
    "Welcome to the basic analysis using `miRNAselector`. The package offers:\n",
    "\n",
    "- Basic exploratory analysis of miRNA sets for biomarker purposes based on miRNA-seq or qPCR data.\n",
    "- Selection of the best biomarker miRNA set for cancer diagnosis.\n",
    "- Benchmarking the selected miRNAs sets for biomarker purposes."
   ]
  }
 ],
 "metadata": {
  "kernelspec": {
   "display_name": "R",
   "language": "R",
   "name": "ir"
  },
  "language_info": {
   "codemirror_mode": "r",
   "file_extension": ".r",
   "mimetype": "text/x-r-source",
   "name": "R",
   "pygments_lexer": "r",
   "version": "3.6.3"
  }
 },
 "nbformat": 4,
 "nbformat_minor": 4
}
